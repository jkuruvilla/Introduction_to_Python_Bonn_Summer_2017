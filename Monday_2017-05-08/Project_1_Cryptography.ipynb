{
 "cells": [
  {
   "cell_type": "markdown",
   "metadata": {
    "deletable": true,
    "editable": true
   },
   "source": [
    "# Project 1 - Cryptography\n",
    "(This project is based on an exercise from Thomas Robitaille)"
   ]
  },
  {
   "cell_type": "markdown",
   "metadata": {
    "deletable": true,
    "editable": true
   },
   "source": [
    "## About the Projects\n",
    "- You will get one project all two weeks\n",
    "- You need to solve the projects in order to pass the course. You do not pass the course if:\n",
    "  - You do not hand in solutions for one or more projects. However, you *must* hand in the final project (advanced science analysis).\n",
    "  - You cannot solve more than two projects.\n",
    "- The course will not give you any credit points. However, you need to pass this course in order to attend an *advanced* course which I will offer next summer term!\n",
    "- Please send your solutions (Python script or Jupyter notebook) via mail to Joseph.\n",
    "- **In contrast to the homework exercises, each student must hand in an own solution for the projects!**\n",
    "\n",
    "To *solve* a project means:\n",
    "- You need to hand in a program that solves the task given. Note that there is nothing like *half solutions*!. Either you solve a project or you do not!\n",
    "- Your program needs to be well written (meaningful variable names, good prohram structure, good documentation)."
   ]
  },
  {
   "cell_type": "markdown",
   "metadata": {
    "deletable": true,
    "editable": true
   },
   "source": [
    "## Simple cryptography: The Cesar cipher\n",
    "**(The project is due on 22/05/2017 before the lecture at 2pm**)\n",
    "\n",
    "Cryptography is the study of how to make messages secret or how to read secret messages. A very simple encryption technique is called the *Caesar cipher*, which you can read up more about [here](http://en.wikipedia.org/wiki/Caesar_cipher). The basic idea is that each letter is replaced by a letter that is a certain number of letters away, so for example if the shift was 2, then A would become C, B would become D, etc. (and Z will become B).\n",
    "\n",
    "Write a program ``cesar.py`` that given a string and a shift, will produce the encrypted string for that shift. Note that the same program can be used to decrypt a message, by passing it a negative shift. \n",
    "\n",
    "The rules are: you should only accept and return lowercase letters, and spaces should not be changed. You can assume that the input string obeys these rules and you do not need the input.\n",
    "\n",
    "- Decrypt the following message, which was encrypted with a shift of 13:\n",
    "    \n",
    "    pbatenghyngvbaf lbh unir fhpprrqrq va qrpelcgvat gur fgevat    \n",
    "                \n",
    "- Decrypt the following message **and** find the shift:\n",
    "    \n",
    "    gwc uivioml bw nqvl bpm zqopb apqnb\n",
    "    \n",
    "  Write a program ``cesar_2.py`` for this task.  \n",
    "    \n",
    "**Hints: (1) Find below a construct that allows you to acess all letters of a string one after the other; (2) To solve the task you need to convert letters to numbers and vice versa. There are several ways to do this. One is to use the built-in functions ``chr`` and ``ord`` (and remember you can find out more about a function by using ``?``).**"
   ]
  },
  {
   "cell_type": "markdown",
   "metadata": {
    "deletable": true,
    "editable": true
   },
   "source": [
    "## Accessing individual letters of a string"
   ]
  },
  {
   "cell_type": "code",
   "execution_count": null,
   "metadata": {
    "collapsed": false,
    "deletable": true,
    "editable": true
   },
   "outputs": [],
   "source": [
    "# the follwing construct allows you to access all characters within a string one after the other:\n",
    "name = \"Thomas\"\n",
    "\n",
    "for letter in name:\n",
    "    # Within this 'for'-loop (you will learn more about it in later lectures)\n",
    "    # the variable 'letter' contains consecutively all individual letters of\n",
    "    # the string 'name'\n",
    "    print(letter)    \n"
   ]
  }
 ],
 "metadata": {
  "kernelspec": {
   "display_name": "Python [conda env:my-py3-env]",
   "language": "python",
   "name": "conda-env-my-py3-env-py"
  },
  "language_info": {
   "codemirror_mode": {
    "name": "ipython",
    "version": 3
   },
   "file_extension": ".py",
   "mimetype": "text/x-python",
   "name": "python",
   "nbconvert_exporter": "python",
   "pygments_lexer": "ipython3",
   "version": "3.5.2"
  }
 },
 "nbformat": 4,
 "nbformat_minor": 0
}
