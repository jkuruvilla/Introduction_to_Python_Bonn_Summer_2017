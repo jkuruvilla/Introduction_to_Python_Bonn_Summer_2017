{
 "cells": [
  {
   "cell_type": "markdown",
   "metadata": {
    "deletable": true,
    "editable": true
   },
   "source": [
    "# Basic Types in Core-Python"
   ]
  },
  {
   "cell_type": "markdown",
   "metadata": {
    "deletable": true,
    "editable": true
   },
   "source": [
    "Python has all types that you already know from other programming languages.\n",
    "\n",
    "**Notes:**\n",
    "- In Python, variables do **not** need to be declared before using them!\n",
    "- Variables do not have any type but the *objects* they point to do!"
   ]
  },
  {
   "cell_type": "markdown",
   "metadata": {
    "deletable": true,
    "editable": true
   },
   "source": [
    "## Integer Type"
   ]
  },
  {
   "cell_type": "code",
   "execution_count": null,
   "metadata": {
    "collapsed": false,
    "deletable": true,
    "editable": true
   },
   "outputs": [],
   "source": [
    "a = 5  # assigninig the integer value 5 to variable 'a'\n",
    "b = 2\n",
    "\n",
    "print(a + b, a - b) # Integer addition and subtraction\n",
    "print(a * b)        # Integer multiplication\n",
    "print(a**b)         # 5 to the power of 2\n",
    "print(a // b)       # Integer division!\n",
    "print(a % b)        # modulo function\n",
    "print(a / b)        # division with 'promotion' of the result to float\n",
    "                    # if necessary\n",
    "                    # This behaviour is different in Python2!\n",
    "print(5**5460)      # 'arbitrarily accurate' integer arithmetic! "
   ]
  },
  {
   "cell_type": "markdown",
   "metadata": {
    "deletable": true,
    "editable": true
   },
   "source": [
    "The last example shows that Python provides *aribtrary precise* integer arithmetic! There is only **one** integer type in the Python core."
   ]
  },
  {
   "cell_type": "code",
   "execution_count": null,
   "metadata": {
    "collapsed": false,
    "deletable": true,
    "editable": true
   },
   "outputs": [],
   "source": [
    "a = 5\n",
    "print(type(a))   # The type of the object a variable points to\n",
    "                 # can explicitely be queried!\n",
    "print(type(5))    "
   ]
  },
  {
   "cell_type": "markdown",
   "metadata": {
    "deletable": true,
    "editable": true
   },
   "source": [
    "## Float Type"
   ]
  },
  {
   "cell_type": "code",
   "execution_count": null,
   "metadata": {
    "collapsed": false,
    "deletable": true,
    "editable": true
   },
   "outputs": [],
   "source": [
    "import numpy  # 'library or module' of mathematical functions\n",
    "              # and data structures.\n",
    "\n",
    "c = 3.14159 # seen already? \n",
    "d = .1      # equal to 0.1\n",
    "e = 1.2e2   # read: 1.2 times 10 to the power of 2\n",
    "\n",
    "print(type(e))\n",
    "print(c + d, c - d, d * e, c / d)\n",
    "print(numpy.cos(c))  # The cosine function is defined within the numpy module\n",
    "print(c%1)           # obtain fractional part of a float\n",
    "\n",
    "print(d + 3)  # in mixed calculations, integer values are 'promoted' to float"
   ]
  },
  {
   "cell_type": "markdown",
   "metadata": {
    "deletable": true,
    "editable": true
   },
   "source": [
    "- By default Python uses *Double Precision* floating point numbers.\n",
    "- The example ```print(c / d)``` reminds us that most floating-point numbers do not have an **exact** representation in a computer (numerics!). See also [Floating Point Arithmetic: Issues and Limitations](https://docs.python.org/3.5/tutorial/floatingpoint.html) and read especially [What every computer scientist should know about Floating-Point Arithmetic](http://www.validlab.com/goldberg/paper.pdf) if you have not yet done so!"
   ]
  },
  {
   "cell_type": "markdown",
   "metadata": {
    "collapsed": true,
    "deletable": true,
    "editable": true
   },
   "source": [
    "### Exercise:\n",
    "Calculate the expressions: $2 + 4 \\cdot 3$, $5^{5^{5}}$, $\\mathrm{e}^{-1}$\n",
    "and $\\left({49 \\atop 6}\\right)=\\frac{49!}{6! 43!}$\n",
    "\n",
    "**Hint:** You can use the functions `numpy.exp` and `numpy.math.factorial` to obatin Eulers number and factorials respectively."
   ]
  },
  {
   "cell_type": "code",
   "execution_count": null,
   "metadata": {
    "collapsed": true,
    "deletable": true,
    "editable": true
   },
   "outputs": [],
   "source": [
    "# your solution here"
   ]
  },
  {
   "cell_type": "markdown",
   "metadata": {
    "deletable": true,
    "editable": true
   },
   "source": [
    "# Boolean Type\n",
    "Python has an *explicit* boolean type which can only take the values ```True``` and ```False```. It is used to test conditions in loops and ```if``` statements."
   ]
  },
  {
   "cell_type": "code",
   "execution_count": null,
   "metadata": {
    "collapsed": false,
    "deletable": true,
    "editable": true
   },
   "outputs": [],
   "source": [
    "f = False\n",
    "t = True\n",
    "a = 1\n",
    "\n",
    "print(f or t)   # logical 'or'\n",
    "print(f and t)  # logical 'and'\n",
    "print(a == 1)   # test for equality\n",
    "print(a == 2)\n",
    "print(a < 5, a >= 5)"
   ]
  },
  {
   "cell_type": "markdown",
   "metadata": {
    "deletable": true,
    "editable": true
   },
   "source": [
    "### Exercises\n",
    "- Write down a ```Python``` expression which evaluates to ```True```\n",
    "if $1 < x \\leq 10$ and to ```False``` otherwise.\n",
    "- Explain the results of the following cell! Can you modify the expressions such that the results meet your expectations?"
   ]
  },
  {
   "cell_type": "code",
   "execution_count": null,
   "metadata": {
    "collapsed": false,
    "deletable": true,
    "editable": true
   },
   "outputs": [],
   "source": [
    "d = 1.0\n",
    "print(d == 1.0)\n",
    "print((d - 0.6) == 0.4)\n",
    "print((d - 6 * 0.1) == 0.4)"
   ]
  },
  {
   "cell_type": "code",
   "execution_count": null,
   "metadata": {
    "collapsed": true,
    "deletable": true,
    "editable": true
   },
   "outputs": [],
   "source": [
    "# your solution here"
   ]
  },
  {
   "cell_type": "markdown",
   "metadata": {
    "collapsed": true,
    "deletable": true,
    "editable": true
   },
   "source": [
    "# String Type\n",
    "The Python String type is a special case of a *container* which we will treat in detail in the coming weeks!"
   ]
  },
  {
   "cell_type": "code",
   "execution_count": null,
   "metadata": {
    "collapsed": false,
    "deletable": true,
    "editable": true
   },
   "outputs": [],
   "source": [
    "first_name = \"Thomas\"\n",
    "second_name = \"Erben\"\n",
    "\n",
    "full_name = first_name + \" \" + second_name # concatenation of strings\n",
    "print(full_name)\n",
    "\n",
    "print(full_name[1], full_name[1:3])        # accessing parts of strings \n",
    "                                           # (see containers)\n",
    "print(len(full_name))                      # length of string\n",
    "print(full_name.upper())                   # translate all chars to uppercase\n",
    "\n",
    "print(full_name.find(\"Erben\"))             # find substring"
   ]
  },
  {
   "cell_type": "markdown",
   "metadata": {
    "deletable": true,
    "editable": true
   },
   "source": [
    "## Remarks:\n",
    "- Python fully administrates memory for you (You did not need to worry aboput memory overflows by\n",
    "assigning too long strings to variables etc.)! However, it is often necessary to know *how* Python\n",
    "does it, especially for data-intensive applications. We will talk more about this later.\n",
    "- Note the different ways to operate with a function on strings: ```len(full_name)``` (usual function call)\n",
    "and ```full_name.upper()``` (calling a method from the *String Class*)."
   ]
  },
  {
   "cell_type": "markdown",
   "metadata": {
    "deletable": true,
    "editable": true
   },
   "source": [
    "### Exercise:\n",
    "Give a Python command which replaces the word *Hello* in a string with *Goodbye*!"
   ]
  },
  {
   "cell_type": "code",
   "execution_count": null,
   "metadata": {
    "collapsed": false,
    "deletable": true,
    "editable": true
   },
   "outputs": [],
   "source": [
    "s = \"Hello Thomas\"\n",
    "\n",
    "# your solution here"
   ]
  }
 ],
 "metadata": {
  "kernelspec": {
   "display_name": "Python [conda env:my-py3-env]",
   "language": "python",
   "name": "conda-env-my-py3-env-py"
  },
  "language_info": {
   "codemirror_mode": {
    "name": "ipython",
    "version": 3
   },
   "file_extension": ".py",
   "mimetype": "text/x-python",
   "name": "python",
   "nbconvert_exporter": "python",
   "pygments_lexer": "ipython3",
   "version": "3.5.2"
  }
 },
 "nbformat": 4,
 "nbformat_minor": 0
}
