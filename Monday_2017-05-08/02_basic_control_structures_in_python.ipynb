{
 "cells": [
  {
   "cell_type": "markdown",
   "metadata": {
    "deletable": true,
    "editable": true
   },
   "source": [
    "# Basic Control Structures in Python\n",
    "- Loops allow us to repeatedly execute parts of a program (most of the time with a variable parameter)\n",
    "- Conditional program execution allow us to execute parts of a program depending on some condition"
   ]
  },
  {
   "cell_type": "markdown",
   "metadata": {
    "deletable": true,
    "editable": true
   },
   "source": [
    "## The while-loop\n",
    "The basic sytax of the ```while```-loop in Python is:\n",
    "\n",
    "```\n",
    "while condition:\n",
    "    # execute commands until condition\n",
    "    # evaluates to False\n",
    "```"
   ]
  },
  {
   "cell_type": "code",
   "execution_count": null,
   "metadata": {
    "collapsed": false,
    "deletable": true,
    "editable": true
   },
   "outputs": [],
   "source": [
    "# print the squares of the numbers 1 to 10\n",
    "i = 1\n",
    "\n",
    "while i <= 10:\n",
    "    print(i**2)\n",
    "    i = i + 1\n",
    "    \n",
    "print(\"The loop has finished\")    "
   ]
  },
  {
   "cell_type": "markdown",
   "metadata": {
    "deletable": true,
    "editable": true
   },
   "source": [
    "## Notes:\n",
    "- ```condition``` must be a boolean expression! The loop is executed while the condition evaluates to True.\n",
    "- Note the colon at the end of the condition!\n",
    "- Python has **no** special characters indicating the start and the end of\n",
    "the ```while```-loop execution block. The block is merely indicated by identation!\n",
    "**This is the case for all Python control structures! Blocks are always indicated\n",
    "by code-identation**. All lines belonging to a block must be idented **by the same\n",
    "amount of spaces**. The usual ident is four spaces **(never use tabs)**."
   ]
  },
  {
   "cell_type": "markdown",
   "metadata": {
    "deletable": true,
    "editable": true
   },
   "source": [
    "## Exercises\n",
    "- What is the output of the print statements in the following code fragements? Answer the question before executing the codes!\n",
    "\n",
    "  ```\n",
    "  a = 1\n",
    "  i = 1\n",
    "  while i < 5:\n",
    "      i = i + 1\n",
    "      a = a + 1\n",
    "  print(i, a)    \n",
    "  ```\n",
    "  and\n",
    "  ```\n",
    "  a = 1\n",
    "  i = 1\n",
    "  while i < 5:\n",
    "      i = i + 1\n",
    "  a = a + 1\n",
    "  print(i, a)\n",
    "  ```"
   ]
  },
  {
   "cell_type": "code",
   "execution_count": null,
   "metadata": {
    "collapsed": true,
    "deletable": true,
    "editable": true
   },
   "outputs": [],
   "source": [
    "# your solution here"
   ]
  },
  {
   "cell_type": "markdown",
   "metadata": {
    "deletable": true,
    "editable": true
   },
   "source": [
    "- The square root $y=\\sqrt{x}$ of a positive number $x$ can be estimated iteratively with $y_0>0$ (an arbitrary positive number) and $y_{n+1}=\\frac 12\\left(y_n+\\frac{x}{y_n}\\right)$.\n",
    "\n",
    "  Write a python program to estimate the square root with that recipe!\n",
    "\n",
    "  **Hint:** Construct a ```while```-loop with the condition $|y_{n+1}-y_n|>\\epsilon$ with $\\epsilon=10^{-6}$ and update $y_n$ and $y_{n+1}$ within the loop. Consider the final $y_{n+1}$ as estimate for $\\sqrt{x}$."
   ]
  },
  {
   "cell_type": "code",
   "execution_count": null,
   "metadata": {
    "collapsed": true,
    "deletable": true,
    "editable": true
   },
   "outputs": [],
   "source": [
    "# your solution here"
   ]
  },
  {
   "cell_type": "markdown",
   "metadata": {
    "deletable": true,
    "editable": true
   },
   "source": [
    "## The if-statement\n",
    "The basic syntax of the ```ìf```-statement is:\n",
    "\n",
    "```\n",
    "if condition:\n",
    "    # execute commands if condition is True\n",
    "else:\n",
    "    # execute commands if condition is False\n",
    "```\n",
    "The ```else```-part of the construct is optional!\n",
    "\n",
    "**The same notes as for the ```while```-loop apply!**"
   ]
  },
  {
   "cell_type": "code",
   "execution_count": null,
   "metadata": {
    "collapsed": false,
    "deletable": true,
    "editable": true
   },
   "outputs": [],
   "source": [
    "x = 6\n",
    "\n",
    "if x < 10:\n",
    "    print(\"x is smaller than 10!\")\n",
    "    \n",
    "if x % 2 == 0:\n",
    "    print(\"x is even!\")\n",
    "else:\n",
    "    print(\"x is odd!\")\n",
    "    "
   ]
  },
  {
   "cell_type": "markdown",
   "metadata": {
    "deletable": true,
    "editable": true
   },
   "source": [
    "## Exercises:\n",
    "- $x$ and $y$ are integer numbers. Write a python program which determines whether $x<y$, $x>y$ or $x=y$ and prints out the result!\n",
    "\n",
    "  **Hint:** Nested ```if```-statements"
   ]
  },
  {
   "cell_type": "code",
   "execution_count": null,
   "metadata": {
    "collapsed": true,
    "deletable": true,
    "editable": true
   },
   "outputs": [],
   "source": [
    "# your solution here"
   ]
  },
  {
   "cell_type": "markdown",
   "metadata": {
    "deletable": true,
    "editable": true
   },
   "source": [
    "- Write a program to test whether a given positive integer $x$ is a prime number!\n",
    "\n",
    "  **Hints:**\n",
    "  - You need a combination of a ```while```-loop and an ```if```-statement.\n",
    "  - A very simple test for the prime-property is: A positive integer is prime if $x\\bmod n \\neq 0$ for all $2\\leq n \\leq \\sqrt{x}$."
   ]
  },
  {
   "cell_type": "code",
   "execution_count": null,
   "metadata": {
    "collapsed": true,
    "deletable": true,
    "editable": true
   },
   "outputs": [],
   "source": [
    "# your solution here"
   ]
  }
 ],
 "metadata": {
  "kernelspec": {
   "display_name": "Python [conda env:my-py3-env]",
   "language": "python",
   "name": "conda-env-my-py3-env-py"
  },
  "language_info": {
   "codemirror_mode": {
    "name": "ipython",
    "version": 3
   },
   "file_extension": ".py",
   "mimetype": "text/x-python",
   "name": "python",
   "nbconvert_exporter": "python",
   "pygments_lexer": "ipython3",
   "version": "3.5.2"
  }
 },
 "nbformat": 4,
 "nbformat_minor": 0
}
