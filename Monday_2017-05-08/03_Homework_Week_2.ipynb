{
 "cells": [
  {
   "cell_type": "markdown",
   "metadata": {
    "deletable": true,
    "editable": true
   },
   "source": [
    "# Homework for Week 2 - First Python programs"
   ]
  },
  {
   "cell_type": "markdown",
   "metadata": {
    "deletable": true,
    "editable": true
   },
   "source": [
    "**Homework is due on Monday, 15/05/2017, 2pm**\n",
    "- You only learn a programming language by actively praticing and using it! I therefore **strongly** advise you to work on the homework problems.\n",
    "- Please discuss the problems with your student peers in case of problems.\n",
    "- Please send your solutions via mail to Joseph.\n",
    "  - He will correct them and give you feedback on your solutions. I also will talk about common problems in later classes.\n",
    "  - You can hand in Jupyter notebooks or Python scripts.\n",
    "  - If you hand in scripts, please use the proposed names to make live easier for Joseph!\n",
    "  - You are free to hand in group solutions - there is no limit on the number of students who want to work in a group!\n",
    "  - Your code needs to be well and appropriately commented! "
   ]
  },
  {
   "cell_type": "markdown",
   "metadata": {
    "deletable": true,
    "editable": true
   },
   "source": [
    "## Approximation of $\\pi$ with the Wallis product"
   ]
  },
  {
   "cell_type": "markdown",
   "metadata": {
    "deletable": true,
    "editable": true
   },
   "source": [
    "$\\pi$ cn be approximated with the infinite product\n",
    "$$\\pi = 2\\prod_{i=1}^{\\infty}\\frac{4i^2}{4i^2-1}$$\n",
    "Write a Python program which approximates $\\pi$ by the finite products\n",
    "$$\\pi = 2\\prod_{i=1}^{n}\\frac{4i^2}{4i^2-1}$$\n",
    "with $n\\in \\{50, 100, 1000, 10000, 20000\\}$ and compare the results with the value $\\pi\\approx 3.1415926$.\n",
    "\n",
    "If you hand in a script for this task, please name it ``wallis.py``"
   ]
  },
  {
   "cell_type": "code",
   "execution_count": null,
   "metadata": {
    "collapsed": true,
    "deletable": true,
    "editable": true
   },
   "outputs": [],
   "source": [
    "# Your solution here"
   ]
  },
  {
   "cell_type": "markdown",
   "metadata": {
    "deletable": true,
    "editable": true
   },
   "source": [
    "## Fibonacci Numbers\n",
    "The infinite series of Fibonacci numbers $F_n$ is defined as $F_1=1$, $F_2=1$ and $F_n = F_{n-1} + F_{n-2}$. Write a ```python``` program which calculates the sum of the first 1000 Fibonacci numbers!\n",
    "\n",
    "If you hand in a script for this problem, please name it ``fibonacci.py``"
   ]
  },
  {
   "cell_type": "code",
   "execution_count": null,
   "metadata": {
    "collapsed": true,
    "deletable": true,
    "editable": true
   },
   "outputs": [],
   "source": [
    "# your solution here"
   ]
  },
  {
   "cell_type": "markdown",
   "metadata": {
    "deletable": true,
    "editable": true
   },
   "source": [
    "## Chicken McNuggets\n",
    "Mc Donalds sells its Chicken McNuggets in packages of 6, 9 and 20 pieces.\n",
    "- Write a ```python``` program which tests for a given number $N$, whether $N$ nuggets can be bought. Your program should print *all* possible package combinations in which the $N$ nuggets can be obtained (e.g. 60 nuggets can be bought with 3 packages of 20 pieces, 10 packages of 6 pieces and three more combinations). Print a corresponding message if the $N$ nuggets cannot be bought!\n",
    "**(Hint: A computer is ideal to determine a solution to a problem by trying out *all possibilities*. You can solve this problem with this strategy and three nested ```while```-loop.)**\n",
    "\n",
    "  If you hand in a script for this exercise, please name it ``nuggets_1.py``\n",
    "- Use your program to show that you can buy $N=50, 51, \\dots, 55$.\n",
    "- Reason that you can buy any amount of nuggets $N>M$ if you can buy $M-5, M-4, \\dots, M$ nuggets.\n",
    "- Determine the maximum number of nuggets that cannot be bought in packages of 6, 9 and 20 pieces.\n",
    "**(Hint: Use the program of the first exercise part as a basis for this task)**\n",
    "  \n",
    "  If you hand in a script for this exercise, please name it ``nuggets_2.py``"
   ]
  },
  {
   "cell_type": "code",
   "execution_count": null,
   "metadata": {
    "collapsed": true,
    "deletable": true,
    "editable": true
   },
   "outputs": [],
   "source": [
    "# your solution here"
   ]
  }
 ],
 "metadata": {
  "kernelspec": {
   "display_name": "Python [conda env:my-py3-env]",
   "language": "python",
   "name": "conda-env-my-py3-env-py"
  },
  "language_info": {
   "codemirror_mode": {
    "name": "ipython",
    "version": 3
   },
   "file_extension": ".py",
   "mimetype": "text/x-python",
   "name": "python",
   "nbconvert_exporter": "python",
   "pygments_lexer": "ipython3",
   "version": "3.5.2"
  }
 },
 "nbformat": 4,
 "nbformat_minor": 0
}
