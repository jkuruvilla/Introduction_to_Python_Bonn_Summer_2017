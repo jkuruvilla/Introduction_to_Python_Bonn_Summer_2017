{
 "cells": [
  {
   "cell_type": "markdown",
   "metadata": {
    "deletable": true,
    "editable": true
   },
   "source": [
    "# Introduction - Why Python?"
   ]
  },
  {
   "cell_type": "markdown",
   "metadata": {
    "deletable": true,
    "editable": true
   },
   "source": [
    "## The sceintific computing Ecosystem"
   ]
  },
  {
   "cell_type": "markdown",
   "metadata": {
    "deletable": true,
    "editable": true
   },
   "source": [
    "- Low level code written in compiled languages as C or Fortran\n",
    "  - Most widespread scientific computing model in the world of physics. It was there from the very beginning!\n",
    "  - Strongly oriented on computers and delivers **best possible** performance.\n",
    "  - Millions lines of code of highly-optimised code bases (LAPACK etc.); we must work with them!\n",
    "  - Computing time is more precious than human time!\n",
    "  - No direct access to higher-level data analysis tools (postprocessing, plotting)\n",
    "  - Code base is often *horrible* (badly documented, very hard to read code)\n",
    "  - Young physicists still must work with them (existing code, it's what the supervisor can help me with).\n",
    "  \n",
    "- Mathematica, Maple, MATLAB, IDL: popular interactive environments\n",
    "  - Interactive visualization\n",
    "  - Extensive Libraries (IDL astro package)\n",
    "  - Difficult to use in non-interactive batch environment or for *large* amounts of data\n",
    "  - Optimised for small to medium tasks\n",
    "    <img src=\"images/DECam.jpg\",width=400,height=400>\n",
    "  - **Very expensive, proprieatory software** (are you able to reuse your code in your first post-doc?)\n",
    "  - Usually very specialised to a specific field\n",
    "  \n",
    "- The command line (gluing together low-level C/Fortran results with high-level analysis tools)\n",
    "  - Requires knowledge of many different tools and programming languages (grep, sed, awk, bash, gnuplot, ...)"
   ]
  },
  {
   "cell_type": "markdown",
   "metadata": {
    "deletable": true,
    "editable": true
   },
   "source": [
    "## How does Python fit in?"
   ]
  },
  {
   "cell_type": "markdown",
   "metadata": {
    "deletable": true,
    "editable": true
   },
   "source": [
    "- Python is a high-level, non-compiled, general-purpose *scripting language* offering very powerful libraries (modules) for scientific computing.\n",
    "- Very readable syntax and programs\n",
    "- It offers programming batch-possibilities from the C/Fortran-world as well as rich interactive capabilties.\n",
    "- *Simple*: Non-professional programmers can use it efficiently\n",
    "- (Clean Object-oriented model; everything is an object) but you do not need to use it\n",
    "- Very rich built-in data types (lists, sets, dictionaries)\n",
    "- Libraries and data-structures for MATLAB-like work available (numpy)\n",
    "- Possible to wrap with C or Fortran (I never did it)\n",
    "- People from a large variety of fields in academia and indistry use it (you get tools and libraries for data-base access, web access etc. for free)\n",
    "- **Python gets things right for about 90% of our needs!**"
   ]
  },
  {
   "cell_type": "markdown",
   "metadata": {
    "deletable": true,
    "editable": true
   },
   "source": [
    "I could completely switch from C to Python for new tools! It significantly reduce the amount of programs I use in the command line model."
   ]
  },
  {
   "cell_type": "markdown",
   "metadata": {
    "deletable": true,
    "editable": true
   },
   "source": [
    "## Other Pros of Python\n",
    "- Python is not limited to numerics. We need to talk to the WEB, to databases etc."
   ]
  },
  {
   "cell_type": "markdown",
   "metadata": {
    "deletable": true,
    "editable": true
   },
   "source": [
    "<img src=\"https://cdn.eso.org/images/screen/eso1238a.jpg\", ,width=400,height=400>"
   ]
  },
  {
   "cell_type": "markdown",
   "metadata": {
    "deletable": true,
    "editable": true
   },
   "source": [
    "- Support for automated testing\n",
    "- Excellent documentation tools **(You are just seeing one of them)**"
   ]
  },
  {
   "cell_type": "markdown",
   "metadata": {
    "deletable": true,
    "editable": true
   },
   "source": [
    "## Cons(?) of Python"
   ]
  },
  {
   "cell_type": "markdown",
   "metadata": {
    "deletable": true,
    "editable": true
   },
   "source": [
    "- Python is slower than C or Fortran; we have less memory control\n",
    "- (Too) many good tools (many people try many before sticking to one) - no clear single point of entry for newcomers.\n",
    "- Often scattered community but this seems to be solved for the scientific ecosystem\n",
    "- Not a standardized language (see Python2 vs. Python3)\n",
    "- Important tools that you need might not **yet** exist (largely solved for astronomy)!"
   ]
  },
  {
   "cell_type": "code",
   "execution_count": null,
   "metadata": {
    "collapsed": true,
    "deletable": true,
    "editable": true,
    "scrolled": true
   },
   "outputs": [],
   "source": []
  }
 ],
 "metadata": {
  "kernelspec": {
   "display_name": "Python [conda env:my-py3-env]",
   "language": "python",
   "name": "conda-env-my-py3-env-py"
  },
  "language_info": {
   "codemirror_mode": {
    "name": "ipython",
    "version": 3
   },
   "file_extension": ".py",
   "mimetype": "text/x-python",
   "name": "python",
   "nbconvert_exporter": "python",
   "pygments_lexer": "ipython3",
   "version": "3.5.2"
  }
 },
 "nbformat": 4,
 "nbformat_minor": 0
}
