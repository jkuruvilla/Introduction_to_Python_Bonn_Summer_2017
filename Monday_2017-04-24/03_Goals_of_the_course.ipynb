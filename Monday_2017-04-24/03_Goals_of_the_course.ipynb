{
 "cells": [
  {
   "cell_type": "markdown",
   "metadata": {
    "collapsed": false,
    "deletable": true,
    "editable": true
   },
   "source": [
    "# Goals of the Course"
   ]
  },
  {
   "cell_type": "markdown",
   "metadata": {
    "collapsed": false,
    "deletable": true,
    "editable": true,
    "scrolled": true
   },
   "source": [
    "**We want to use our computers to solve scientific problems!**"
   ]
  },
  {
   "cell_type": "markdown",
   "metadata": {
    "collapsed": true,
    "deletable": true,
    "editable": true
   },
   "source": [
    "<img src=\"images/NGVS_nomask.jpg\",width=500,height=250>\n",
    "**Figure:** Optical astronomical image"
   ]
  },
  {
   "cell_type": "markdown",
   "metadata": {
    "deletable": true,
    "editable": true
   },
   "source": [
    "<img src=\"images/NGVS_mask.jpg\",width=500,height=250>\n",
    "**Figure:** Optical image with *automatically generated* masks"
   ]
  },
  {
   "cell_type": "markdown",
   "metadata": {
    "deletable": true,
    "editable": true
   },
   "source": [
    "## What do you need to learn?\n",
    "- A (general purpose) programming language, its elements (data structures) and syntax. *Most* languages are very similar in their building blocks (see below). *All* general purpose languages can solve the same class of problems.\n",
    "- For concrete problems you need specific algorithms **(simulations, differential equations, numerical mathematics)** \n",
    "- You need **algorithmic thinking** - how can I decompose a given problem to solve it with available elements of my programming language.\n",
    "- You need the ability to test the **correctness** of your program and a very good feeling for potential problems!\n",
    "\n",
    "**A Programming language is a language that you need to actively speak to master it!**"
   ]
  },
  {
   "cell_type": "markdown",
   "metadata": {
    "deletable": true,
    "editable": true
   },
   "source": [
    "## Elements of a programming language\n",
    "- Input and output (Interaction with the user)\n",
    "- Manipulation of memory and variables\n",
    "- elementary mathematics\n",
    "- conditional program execution\n",
    "- loops (repetition of code parts with variable parameters)\n",
    "- functions\n",
    "- comments\n",
    "\n",
    "- **(Libraries for your applications)**"
   ]
  },
  {
   "cell_type": "code",
   "execution_count": null,
   "metadata": {
    "collapsed": false,
    "deletable": true,
    "editable": true
   },
   "outputs": [],
   "source": [
    "import sys\n",
    "\n",
    "\"\"\"\n",
    "program to estimate the square root of a positive real number\n",
    "\"\"\"\n",
    "\n",
    "def my_sqrt(x, epsilon):\n",
    "    \"\"\"\n",
    "    input:\n",
    "    - x: postive float from which to estimate the square root\n",
    "    - eps: expetced accuracy of the estimated square root.\n",
    "\n",
    "    output:\n",
    "    - The estimated square root if the iteration converges to the\n",
    "      expected accuracy eps\n",
    "    - 'None' if the function does not converge or if an ivalid input\n",
    "      was given.\n",
    "    \"\"\"\n",
    "    if x < 0 or epsilon < 0:\n",
    "        # the following print foes to STDERR:\n",
    "        print(\"Both arguments to my_sqrt must be positive!\", file=sys.stderr)\n",
    "        return None\n",
    "   \n",
    "    a = 0.          # start of interval\n",
    "    b = x           # end of interval\n",
    "    sqrt_estimate = (a + b) / 2.\n",
    "    n_iteration = 0\n",
    "\n",
    "    while (b - a) > epsilon and n_iteration < 1000:\n",
    "        if (sqrt_estimate**2) < x:\n",
    "            a = (a + b) / 2.\n",
    "        else:\n",
    "            b = (a + b) / 2.\n",
    "\n",
    "        sqrt_estimate = (a + b) / 2.\n",
    "        n_iteration = n_iteration + 1\n",
    "\n",
    "    if n_iteration == 1000:\n",
    "        print(\"function my_sqrt did not converge after 1000 iterations\",\n",
    "              file=sys.stderr)\n",
    "        return None\n",
    "\n",
    "    return sqrt_estimate\n",
    "\n",
    "# estimate the square root of 2:\n",
    "print(my_sqrt(0.5, 1.0e-06))\n",
    "\n"
   ]
  },
  {
   "cell_type": "code",
   "execution_count": null,
   "metadata": {
    "collapsed": true,
    "deletable": true,
    "editable": true
   },
   "outputs": [],
   "source": []
  }
 ],
 "metadata": {
  "kernelspec": {
   "display_name": "Python [conda env:my-py3-env]",
   "language": "python",
   "name": "conda-env-my-py3-env-py"
  },
  "language_info": {
   "codemirror_mode": {
    "name": "ipython",
    "version": 3
   },
   "file_extension": ".py",
   "mimetype": "text/x-python",
   "name": "python",
   "nbconvert_exporter": "python",
   "pygments_lexer": "ipython3",
   "version": "3.5.2"
  }
 },
 "nbformat": 4,
 "nbformat_minor": 2
}
