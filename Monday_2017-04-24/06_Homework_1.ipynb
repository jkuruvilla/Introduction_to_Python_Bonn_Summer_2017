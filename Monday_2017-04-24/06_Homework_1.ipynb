{
 "cells": [
  {
   "cell_type": "markdown",
   "metadata": {
    "deletable": true,
    "editable": true
   },
   "source": [
    "# Monday, 2017-04-24 Homework notebook"
   ]
  },
  {
   "cell_type": "markdown",
   "metadata": {
    "deletable": true,
    "editable": true
   },
   "source": [
    "The first homework consists of the tasks:\n",
    "\n",
    "- Get familiar with the Jupyter notebook, the cell handling, the markdown language and the keyboard shortcuts\n",
    "- Get familiar on how to run Python-codes. There are the examples within the code-directory of the\n",
    "  Monday_2017-04-24 lecture.\n",
    "- Create a new notebook with the name ```Bessel_Functions``` and reproduce this notebook. Please\n",
    "  find script forms of the codes [bessel_asymp.py](code/bessel_asymp.py) and [bessel_recursion.py](code/bessel_recursion.py) in the code directory of the Monday_2017-04-24 lecture.\n",
    "  \n",
    "**Note:** With the Notebook you of course already have the solution. Please do not cheat on yourself :-)  "
   ]
  },
  {
   "cell_type": "markdown",
   "metadata": {
    "deletable": true,
    "editable": true
   },
   "source": [
    "# Bessel Functions "
   ]
  },
  {
   "cell_type": "markdown",
   "metadata": {
    "deletable": true,
    "editable": true
   },
   "source": [
    "In this notebook we want to verify two simple relations involving the Bessel\n",
    "functions $J_n(x)$ of the first kind.  The relations are the  \n",
    "asymptotic form of $J_n(x)$ for $x\\gg n$ and the known recursion relation to obtain\n",
    "$J_{n+1}(x)$ from $J_{n}(x)$ and $J_{n-1}(x)$:\n",
    "\n",
    "- $J_n(x) \\approx \\sqrt{\\frac{2}{\\pi x}}\\cos(x-(n\\frac{\\pi}{2}+\\frac{\\pi}{4}))$ for $x\\gg n$\n",
    "- $J_{n+1}(x) = \\frac{2n}{x} J_n(x)-J_{n-1}(x)$\n",
    "\n",
    "For more information on the funtions, visit the corresponding [Wikipedia article](https://en.wikipedia.org/wiki/Bessel_function).\n",
    "\n",
    "We basically would like to check, how well the [scipy](https://scipy.org/) Bessel function implementation satisfies the above relations."
   ]
  },
  {
   "cell_type": "code",
   "execution_count": null,
   "metadata": {
    "collapsed": false,
    "deletable": true,
    "editable": true
   },
   "outputs": [],
   "source": [
    "# do not forget to put the following '%matplotlib inline'\n",
    "# within Jupyter notebooks. If you forget it, external\n",
    "# windows are opened for the plot but we would like to\n",
    "# have the plots integrated in the notebooks\n",
    "# The line only needs to be give ONCE per notebook!\n",
    "%matplotlib inline\n",
    "# Verification of scipys Bessel function implementation\n",
    "# - asymptotic behaviour for large x\n",
    "\n",
    "import scipy.special as ss\n",
    "import numpy as np\n",
    "import matplotlib.pyplot as plt\n",
    "import matplotlib\n",
    "\n",
    "# for nicer plots, make fonts larger and lines thicker\n",
    "matplotlib.rcParams['font.size'] = 12\n",
    "matplotlib.rcParams['axes.linewidth'] = 2.0\n",
    "\n",
    "def jn_asym(n,x):\n",
    "    \"\"\"Asymptotic form of jn(x) for x>>n\"\"\"\n",
    "\n",
    "    return np.sqrt(2.0 / np.pi / x) * \\\n",
    "           np.cos(x - (n * np.pi / 2.0 + np.pi / 4.0))\n",
    "\n",
    "# We choose to plot between 0 and 50. We exclude 0 because the\n",
    "# recursion relation contains a division by it.\n",
    "x = np.linspace(0., 50, 500)\n",
    "\n",
    "# plot J_0, J_1 and J_5.\n",
    "for n in [0, 1, 5]:\n",
    "    plt.plot(x, ss.jn(n, x), label='$J_%d$' % (n))\n",
    "\n",
    "# and compute its asymptotic form (valid for x>>n, where n is the order).\n",
    "# must first find the valid range of x where at least x>n.\n",
    "x_asym = x[x > n]\n",
    "plt.plot(x_asym, jn_asym(n, x_asym), linewidth = 2.0,\n",
    "         label='$J_%d$ (asymptotic)' % n)\n",
    "\n",
    "# Finish the plot and show it\n",
    "plt.title('Bessel Functions')\n",
    "plt.xlabel('x')\n",
    "# notet hat you also can use LaTeX for plot labels!\n",
    "plt.ylabel('$J_n(x)$')\n",
    "\n",
    "# horizontal line at 0 to show x-axis, but after the legend\n",
    "plt.legend()\n",
    "plt.axhline(0)"
   ]
  },
  {
   "cell_type": "markdown",
   "metadata": {
    "deletable": true,
    "editable": true
   },
   "source": [
    "We see that the asymptotic form is an excellent approximation for the Bessel function at large $x$-values."
   ]
  },
  {
   "cell_type": "code",
   "execution_count": null,
   "metadata": {
    "collapsed": false,
    "deletable": true,
    "editable": true
   },
   "outputs": [],
   "source": [
    "# Verification of scipys Bessel function implementation\n",
    "# - recursion relation\n",
    "\n",
    "import scipy.special as ss\n",
    "import numpy as np\n",
    "import matplotlib.pyplot as plt\n",
    "import matplotlib\n",
    "\n",
    "# for nicer plots, make fonts larger and lines thicker\n",
    "matplotlib.rcParams['font.size'] = 12\n",
    "matplotlib.rcParams['axes.linewidth'] = 2.0\n",
    "\n",
    "\n",
    "# Now, let's verify numerically the recursion relation\n",
    "# J(n+1,x) = (2n/x)J(n,x)-J(n-1,x), n = 5\n",
    "\n",
    "# We choose here to consider x-values  between 0.1 and 50.\n",
    "# We exclude 0 because the recursion relation contains a\n",
    "# formal division by it.\n",
    "x = np.linspace(0.1, 50, 500)\n",
    "\n",
    "# construct both sides of the recursion relation, these should be equal\n",
    "n = 5\n",
    "\n",
    "# the scipy implementation of jn(5);\n",
    "j_n = ss.jn(5, x)\n",
    "\n",
    "# The recursion relation:\n",
    "j_n_rec = (2.0 * (n - 1) / x) * ss.jn(n - 1, x) - ss.jn(n - 2, x)\n",
    "\n",
    "# We now plot the difference between the two formulas\n",
    "# (j_n and j_n_rec above).  Note that to\n",
    "# properly display the errors, we want to use a logarithmic y scale.\n",
    "plt.semilogy(x, abs(j_n - j_n_rec), 'r+-', linewidth=2.0)\n",
    "\n",
    "plt.title('Error in recursion for $J_%s$' % n)\n",
    "plt.xlabel('x')\n",
    "plt.ylabel('$|J_n(5) - J_{n,rec}(5)|$')\n",
    "plt.grid()\n",
    "\n",
    "# Don't forget a show() call at the end of the script.\n",
    "# Here we save the plot to a file\n",
    "plt.savefig(\"bessel_error.png\")"
   ]
  },
  {
   "cell_type": "markdown",
   "metadata": {
    "deletable": true,
    "editable": true
   },
   "source": [
    "We see that the scipy Bessel-function implementation satisfies the recursion relation up to machine number precision ($|J_5(x) - J_{5, rec}|\\approx 10^{-16}$)"
   ]
  },
  {
   "cell_type": "code",
   "execution_count": null,
   "metadata": {
    "collapsed": true,
    "deletable": true,
    "editable": true
   },
   "outputs": [],
   "source": []
  }
 ],
 "metadata": {
  "kernelspec": {
   "display_name": "Python [conda env:my-py3-env]",
   "language": "python",
   "name": "conda-env-my-py3-env-py"
  },
  "language_info": {
   "codemirror_mode": {
    "name": "ipython",
    "version": 3
   },
   "file_extension": ".py",
   "mimetype": "text/x-python",
   "name": "python",
   "nbconvert_exporter": "python",
   "pygments_lexer": "ipython3",
   "version": "3.5.2"
  }
 },
 "nbformat": 4,
 "nbformat_minor": 2
}
